{
 "cells": [
  {
   "cell_type": "code",
   "execution_count": 39,
   "metadata": {
    "collapsed": true
   },
   "outputs": [],
   "source": [
    "import pickle\n",
    "from gzip import open as gopen \n",
    "import json"
   ]
  },
  {
   "cell_type": "code",
   "execution_count": 40,
   "metadata": {
    "collapsed": false
   },
   "outputs": [
    {
     "name": "stdout",
     "output_type": "stream",
     "text": [
      "opt_bsm1/:\r\n",
      "best_params.json  model.pkl.gz\tmodel.xgb\r\n",
      "\r\n",
      "opt_bsm2/:\r\n",
      "best_params.json  model.pkl.gz\tmodel.xgb\r\n",
      "\r\n",
      "opt_bsm3/:\r\n",
      "best_params.json  model.pkl.gz\tmodel.xgb\r\n",
      "\r\n",
      "opt_bsm4/:\r\n",
      "best_params.json  model.pkl.gz\tmodel.xgb\r\n",
      "\r\n",
      "opt_sm/:\r\n",
      "best_params.json  model.pkl.gz\tmodel.xgb\r\n"
     ]
    }
   ],
   "source": [
    "! ls opt*/"
   ]
  },
  {
   "cell_type": "code",
   "execution_count": 41,
   "metadata": {
    "collapsed": true
   },
   "outputs": [],
   "source": [
    "folders = ['opt_sm','opt_bsm1','opt_bsm2','opt_bsm3','opt_bsm4']"
   ]
  },
  {
   "cell_type": "code",
   "execution_count": 42,
   "metadata": {
    "collapsed": false
   },
   "outputs": [
    {
     "name": "stdout",
     "output_type": "stream",
     "text": [
      "('opt_sm', XGBClassifier(base_score=0.5, booster='gbtree', colsample_bylevel=1,\n",
      "       colsample_bytree=1, gamma=0, learning_rate=0.05, max_delta_step=0,\n",
      "       max_depth=5, min_child_weight=1, missing=nan, n_estimators=600,\n",
      "       n_jobs=1, nthread=4, objective='binary:logistic', random_state=0,\n",
      "       reg_alpha=0, reg_lambda=1.0, scale_pos_weight=1, seed=None,\n",
      "       silent=True, subsample=0.8))\n",
      "('opt_bsm1', XGBClassifier(base_score=0.5, booster='gbtree', colsample_bylevel=1,\n",
      "       colsample_bytree=1, gamma=0, learning_rate=0.05, max_delta_step=0,\n",
      "       max_depth=5, min_child_weight=1, missing=nan, n_estimators=600,\n",
      "       n_jobs=1, nthread=4, objective='multi:softprob', random_state=0,\n",
      "       reg_alpha=0, reg_lambda=1.0, scale_pos_weight=1, seed=None,\n",
      "       silent=True, subsample=0.8))\n",
      "('opt_bsm2', XGBClassifier(base_score=0.5, booster='gbtree', colsample_bylevel=1,\n",
      "       colsample_bytree=1, gamma=0, learning_rate=0.05, max_delta_step=0,\n",
      "       max_depth=5, min_child_weight=1, missing=nan, n_estimators=600,\n",
      "       n_jobs=1, nthread=4, objective='multi:softprob', random_state=0,\n",
      "       reg_alpha=0, reg_lambda=1.0, scale_pos_weight=1, seed=None,\n",
      "       silent=True, subsample=0.8))\n",
      "('opt_bsm3', XGBClassifier(base_score=0.5, booster='gbtree', colsample_bylevel=1,\n",
      "       colsample_bytree=1, gamma=0, learning_rate=0.05, max_delta_step=0,\n",
      "       max_depth=5, min_child_weight=1, missing=nan, n_estimators=600,\n",
      "       n_jobs=1, nthread=4, objective='multi:softprob', random_state=0,\n",
      "       reg_alpha=0, reg_lambda=1.0, scale_pos_weight=1, seed=None,\n",
      "       silent=True, subsample=0.8))\n",
      "('opt_bsm4', XGBClassifier(base_score=0.5, booster='gbtree', colsample_bylevel=1,\n",
      "       colsample_bytree=1, gamma=0, learning_rate=0.05, max_delta_step=0,\n",
      "       max_depth=5, min_child_weight=1, missing=nan, n_estimators=600,\n",
      "       n_jobs=1, nthread=4, objective='multi:softprob', random_state=0,\n",
      "       reg_alpha=0, reg_lambda=1.0, scale_pos_weight=1, seed=None,\n",
      "       silent=True, subsample=0.8))\n"
     ]
    }
   ],
   "source": [
    "features = [ u'pTZ', u'MVH', u'yZ', u'yH', u'etaZ', u'etaH', u'pTb1',\n",
    "            u'pTb2', u'pTl1', u'pTl2', u'etab1', u'etab2', u'etal1', u'etal2',u'Mbb']\n",
    "models = []\n",
    "for folder in folders:\n",
    "    with gopen('%s/model.pkl.gz'%folder) as fin:\n",
    "        model = pickle.loads(fin.read())\n",
    "        print(folder,model)\n",
    "        models.append(model)"
   ]
  },
  {
   "cell_type": "code",
   "execution_count": 48,
   "metadata": {
    "collapsed": false
   },
   "outputs": [],
   "source": [
    "samples = ! ls ZH/*_test.hd5"
   ]
  },
  {
   "cell_type": "code",
   "execution_count": null,
   "metadata": {
    "collapsed": false
   },
   "outputs": [],
   "source": []
  },
  {
   "cell_type": "code",
   "execution_count": 49,
   "metadata": {
    "collapsed": false
   },
   "outputs": [
    {
     "name": "stdout",
     "output_type": "stream",
     "text": [
      "['ZH/cHW-001_test.hd5', 'ZH/cHW+001_test.hd5', 'ZH/cHW-003_test.hd5', 'ZH/cHW+003_test.hd5', 'ZH/SM_test.hd5', 'ZH/Zbb_test.hd5']\n"
     ]
    }
   ],
   "source": [
    "print(samples)"
   ]
  },
  {
   "cell_type": "code",
   "execution_count": 50,
   "metadata": {
    "collapsed": false
   },
   "outputs": [
    {
     "name": "stdout",
     "output_type": "stream",
     "text": [
      "(84502, 2)\n",
      "(84502, 3)\n",
      "(84502, 3)\n",
      "(84502, 3)\n",
      "(84502, 3)\n",
      "(84562, 2)\n",
      "(84562, 3)\n",
      "(84562, 3)\n",
      "(84562, 3)\n",
      "(84562, 3)\n",
      "(84530, 2)\n",
      "(84530, 3)\n",
      "(84530, 3)\n",
      "(84530, 3)\n",
      "(84530, 3)\n",
      "(84568, 2)\n",
      "(84568, 3)\n",
      "(84568, 3)\n",
      "(84568, 3)\n",
      "(84568, 3)\n",
      "(84547, 2)\n",
      "(84547, 3)\n",
      "(84547, 3)\n",
      "(84547, 3)\n",
      "(84547, 3)\n",
      "(94127, 2)\n",
      "(94127, 3)\n",
      "(94127, 3)\n",
      "(94127, 3)\n",
      "(94127, 3)\n"
     ]
    }
   ],
   "source": [
    "dfs = []\n",
    "\n",
    "for sample in samples:\n",
    "    df = pd.read_hdf(sample)\n",
    "    # print(sample,df.head())\n",
    "    X = df[features]\n",
    "    for name,model in zip(folders,models):\n",
    "        probs = model.predict_proba(X)\n",
    "        print(probs.shape)\n",
    "        if len(probs.shape) == 1:\n",
    "            probs = probs.reshape(-1,1)\n",
    "        for iprob in range(probs.shape[1]):\n",
    "            df['%s_prob%d' % (name,iprob)] = probs[:,iprob]\n",
    "    dfs.append(df)\n",
    "        \n",
    "    "
   ]
  },
  {
   "cell_type": "code",
   "execution_count": 52,
   "metadata": {
    "collapsed": false
   },
   "outputs": [
    {
     "name": "stdout",
     "output_type": "stream",
     "text": [
      "Index([u'entry', u'wgt', u'pTZ', u'MVH', u'yZ', u'yH', u'etaZ', u'etaH',\n",
      "       u'pTb1', u'pTb2', u'pTl1', u'pTl2', u'etab1', u'etab2', u'etal1',\n",
      "       u'etal2', u'Mbb', u'nj_pT20', u'label', u'opt_sm_prob0',\n",
      "       u'opt_sm_prob1', u'opt_bsm1_prob0', u'opt_bsm1_prob1',\n",
      "       u'opt_bsm1_prob2', u'opt_bsm2_prob0', u'opt_bsm2_prob1',\n",
      "       u'opt_bsm2_prob2', u'opt_bsm3_prob0', u'opt_bsm3_prob1',\n",
      "       u'opt_bsm3_prob2', u'opt_bsm4_prob0', u'opt_bsm4_prob1',\n",
      "       u'opt_bsm4_prob2'],\n",
      "      dtype='object')\n",
      "Index([u'entry', u'wgt', u'pTZ', u'MVH', u'yZ', u'yH', u'etaZ', u'etaH',\n",
      "       u'pTb1', u'pTb2', u'pTl1', u'pTl2', u'etab1', u'etab2', u'etal1',\n",
      "       u'etal2', u'Mbb', u'nj_pT20', u'label', u'opt_sm_prob0',\n",
      "       u'opt_sm_prob1', u'opt_bsm1_prob0', u'opt_bsm1_prob1',\n",
      "       u'opt_bsm1_prob2', u'opt_bsm2_prob0', u'opt_bsm2_prob1',\n",
      "       u'opt_bsm2_prob2', u'opt_bsm3_prob0', u'opt_bsm3_prob1',\n",
      "       u'opt_bsm3_prob2', u'opt_bsm4_prob0', u'opt_bsm4_prob1',\n",
      "       u'opt_bsm4_prob2'],\n",
      "      dtype='object')\n",
      "Index([u'wgt', u'pTZ', u'MVH', u'yZ', u'yH', u'etaZ', u'etaH', u'pTb1',\n",
      "       u'pTb2', u'pTl1', u'pTl2', u'etab1', u'etab2', u'etal1', u'etal2',\n",
      "       u'Mbb', u'nj_pT20', u'label', u'opt_sm_prob0', u'opt_sm_prob1',\n",
      "       u'opt_bsm1_prob0', u'opt_bsm1_prob1', u'opt_bsm1_prob2',\n",
      "       u'opt_bsm2_prob0', u'opt_bsm2_prob1', u'opt_bsm2_prob2',\n",
      "       u'opt_bsm3_prob0', u'opt_bsm3_prob1', u'opt_bsm3_prob2',\n",
      "       u'opt_bsm4_prob0', u'opt_bsm4_prob1', u'opt_bsm4_prob2'],\n",
      "      dtype='object')\n",
      "Index([u'wgt', u'pTZ', u'MVH', u'yZ', u'yH', u'etaZ', u'etaH', u'pTb1',\n",
      "       u'pTb2', u'pTl1', u'pTl2', u'etab1', u'etab2', u'etal1', u'etal2',\n",
      "       u'Mbb', u'nj_pT20', u'label', u'opt_sm_prob0', u'opt_sm_prob1',\n",
      "       u'opt_bsm1_prob0', u'opt_bsm1_prob1', u'opt_bsm1_prob2',\n",
      "       u'opt_bsm2_prob0', u'opt_bsm2_prob1', u'opt_bsm2_prob2',\n",
      "       u'opt_bsm3_prob0', u'opt_bsm3_prob1', u'opt_bsm3_prob2',\n",
      "       u'opt_bsm4_prob0', u'opt_bsm4_prob1', u'opt_bsm4_prob2'],\n",
      "      dtype='object')\n",
      "Index([u'wgt', u'pTZ', u'MVH', u'yZ', u'yH', u'etaZ', u'etaH', u'pTb1',\n",
      "       u'pTb2', u'pTl1', u'pTl2', u'etab1', u'etab2', u'etal1', u'etal2',\n",
      "       u'Mbb', u'nj_pT20', u'label', u'opt_sm_prob0', u'opt_sm_prob1',\n",
      "       u'opt_bsm1_prob0', u'opt_bsm1_prob1', u'opt_bsm1_prob2',\n",
      "       u'opt_bsm2_prob0', u'opt_bsm2_prob1', u'opt_bsm2_prob2',\n",
      "       u'opt_bsm3_prob0', u'opt_bsm3_prob1', u'opt_bsm3_prob2',\n",
      "       u'opt_bsm4_prob0', u'opt_bsm4_prob1', u'opt_bsm4_prob2'],\n",
      "      dtype='object')\n",
      "Index([u'wgt', u'pTZ', u'MVH', u'yZ', u'yH', u'etaZ', u'etaH', u'pTb1',\n",
      "       u'pTb2', u'pTl1', u'pTl2', u'etab1', u'etab2', u'etal1', u'etal2',\n",
      "       u'Mbb', u'nj_pT20', u'label', u'opt_sm_prob0', u'opt_sm_prob1',\n",
      "       u'opt_bsm1_prob0', u'opt_bsm1_prob1', u'opt_bsm1_prob2',\n",
      "       u'opt_bsm2_prob0', u'opt_bsm2_prob1', u'opt_bsm2_prob2',\n",
      "       u'opt_bsm3_prob0', u'opt_bsm3_prob1', u'opt_bsm3_prob2',\n",
      "       u'opt_bsm4_prob0', u'opt_bsm4_prob1', u'opt_bsm4_prob2'],\n",
      "      dtype='object')\n"
     ]
    }
   ],
   "source": [
    "for df in dfs:\n",
    "    print(df.columns)"
   ]
  },
  {
   "cell_type": "code",
   "execution_count": 53,
   "metadata": {
    "collapsed": false
   },
   "outputs": [
    {
     "name": "stdout",
     "output_type": "stream",
     "text": [
      "ZH/cHW-001_test_bdt_v2.csv\n",
      "ZH/cHW-001_test_bdt_v2.root\n",
      "ZH/cHW+001_test_bdt_v2.csv\n",
      "ZH/cHW+001_test_bdt_v2.root\n",
      "ZH/cHW-003_test_bdt_v2.csv\n",
      "ZH/cHW-003_test_bdt_v2.root\n",
      "ZH/cHW+003_test_bdt_v2.csv\n",
      "ZH/cHW+003_test_bdt_v2.root\n",
      "ZH/SM_test_bdt_v2.csv\n",
      "ZH/SM_test_bdt_v2.root\n",
      "ZH/Zbb_test_bdt_v2.csv\n",
      "ZH/Zbb_test_bdt_v2.root\n"
     ]
    }
   ],
   "source": [
    "import root_pandas as rpd\n",
    "\n",
    "for name,df in zip(samples,dfs):\n",
    "    outname = name.replace(\".hd5\",\"_bdt_v2.csv\")\n",
    "    print(outname)\n",
    "    df.to_csv(outname)\n",
    "    outname = name.replace(\".hd5\",\"_bdt_v2.root\")\n",
    "    print(outname)\n",
    "    df.to_root(outname)\n",
    "    "
   ]
  },
  {
   "cell_type": "code",
   "execution_count": null,
   "metadata": {
    "collapsed": true
   },
   "outputs": [],
   "source": []
  }
 ],
 "metadata": {
  "anaconda-cloud": {},
  "kernelspec": {
   "display_name": "Python [conda root]",
   "language": "python",
   "name": "conda-root-py"
  },
  "language_info": {
   "codemirror_mode": {
    "name": "ipython",
    "version": 2
   },
   "file_extension": ".py",
   "mimetype": "text/x-python",
   "name": "python",
   "nbconvert_exporter": "python",
   "pygments_lexer": "ipython2",
   "version": "2.7.12"
  }
 },
 "nbformat": 4,
 "nbformat_minor": 1
}
